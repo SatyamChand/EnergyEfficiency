{
  "nbformat": 4,
  "nbformat_minor": 0,
  "metadata": {
    "colab": {
      "name": "Regression-Energy Efficiency.ipynb",
      "provenance": [],
      "collapsed_sections": [],
      "authorship_tag": "ABX9TyP36jaNfdiDONNYEVAVeGIg",
      "include_colab_link": true
    },
    "kernelspec": {
      "name": "python3",
      "display_name": "Python 3"
    }
  },
  "cells": [
    {
      "cell_type": "markdown",
      "metadata": {
        "id": "view-in-github",
        "colab_type": "text"
      },
      "source": [
        "<a href=\"https://colab.research.google.com/github/SatyamChand/EnergyEfficiency/blob/main/Regression_Energy_Efficiency.ipynb\" target=\"_parent\"><img src=\"https://colab.research.google.com/assets/colab-badge.svg\" alt=\"Open In Colab\"/></a>"
      ]
    },
    {
      "cell_type": "code",
      "metadata": {
        "id": "V_YAnboB3q5u"
      },
      "source": [
        "import numpy as np\n",
        "import pandas as pd\n",
        "import matplotlib.pyplot as plt\n",
        "import seaborn as sns"
      ],
      "execution_count": null,
      "outputs": []
    },
    {
      "cell_type": "code",
      "metadata": {
        "colab": {
          "base_uri": "https://localhost:8080/",
          "height": 195
        },
        "id": "o7DdzlHh4W1V",
        "outputId": "e95b53f6-04e0-4a2e-82de-0bb202761782"
      },
      "source": [
        "dataset = pd.read_excel('https://archive.ics.uci.edu/ml/machine-learning-databases/00242/ENB2012_data.xlsx', sheet_name='Φύλλο1')\n",
        "dataset.head()"
      ],
      "execution_count": null,
      "outputs": [
        {
          "output_type": "execute_result",
          "data": {
            "text/html": [
              "<div>\n",
              "<style scoped>\n",
              "    .dataframe tbody tr th:only-of-type {\n",
              "        vertical-align: middle;\n",
              "    }\n",
              "\n",
              "    .dataframe tbody tr th {\n",
              "        vertical-align: top;\n",
              "    }\n",
              "\n",
              "    .dataframe thead th {\n",
              "        text-align: right;\n",
              "    }\n",
              "</style>\n",
              "<table border=\"1\" class=\"dataframe\">\n",
              "  <thead>\n",
              "    <tr style=\"text-align: right;\">\n",
              "      <th></th>\n",
              "      <th>X1</th>\n",
              "      <th>X2</th>\n",
              "      <th>X3</th>\n",
              "      <th>X4</th>\n",
              "      <th>X5</th>\n",
              "      <th>X6</th>\n",
              "      <th>X7</th>\n",
              "      <th>X8</th>\n",
              "      <th>Y1</th>\n",
              "      <th>Y2</th>\n",
              "    </tr>\n",
              "  </thead>\n",
              "  <tbody>\n",
              "    <tr>\n",
              "      <th>0</th>\n",
              "      <td>0.98</td>\n",
              "      <td>514.5</td>\n",
              "      <td>294.0</td>\n",
              "      <td>110.25</td>\n",
              "      <td>7.0</td>\n",
              "      <td>2</td>\n",
              "      <td>0.0</td>\n",
              "      <td>0</td>\n",
              "      <td>15.55</td>\n",
              "      <td>21.33</td>\n",
              "    </tr>\n",
              "    <tr>\n",
              "      <th>1</th>\n",
              "      <td>0.98</td>\n",
              "      <td>514.5</td>\n",
              "      <td>294.0</td>\n",
              "      <td>110.25</td>\n",
              "      <td>7.0</td>\n",
              "      <td>3</td>\n",
              "      <td>0.0</td>\n",
              "      <td>0</td>\n",
              "      <td>15.55</td>\n",
              "      <td>21.33</td>\n",
              "    </tr>\n",
              "    <tr>\n",
              "      <th>2</th>\n",
              "      <td>0.98</td>\n",
              "      <td>514.5</td>\n",
              "      <td>294.0</td>\n",
              "      <td>110.25</td>\n",
              "      <td>7.0</td>\n",
              "      <td>4</td>\n",
              "      <td>0.0</td>\n",
              "      <td>0</td>\n",
              "      <td>15.55</td>\n",
              "      <td>21.33</td>\n",
              "    </tr>\n",
              "    <tr>\n",
              "      <th>3</th>\n",
              "      <td>0.98</td>\n",
              "      <td>514.5</td>\n",
              "      <td>294.0</td>\n",
              "      <td>110.25</td>\n",
              "      <td>7.0</td>\n",
              "      <td>5</td>\n",
              "      <td>0.0</td>\n",
              "      <td>0</td>\n",
              "      <td>15.55</td>\n",
              "      <td>21.33</td>\n",
              "    </tr>\n",
              "    <tr>\n",
              "      <th>4</th>\n",
              "      <td>0.90</td>\n",
              "      <td>563.5</td>\n",
              "      <td>318.5</td>\n",
              "      <td>122.50</td>\n",
              "      <td>7.0</td>\n",
              "      <td>2</td>\n",
              "      <td>0.0</td>\n",
              "      <td>0</td>\n",
              "      <td>20.84</td>\n",
              "      <td>28.28</td>\n",
              "    </tr>\n",
              "  </tbody>\n",
              "</table>\n",
              "</div>"
            ],
            "text/plain": [
              "     X1     X2     X3      X4   X5  X6   X7  X8     Y1     Y2\n",
              "0  0.98  514.5  294.0  110.25  7.0   2  0.0   0  15.55  21.33\n",
              "1  0.98  514.5  294.0  110.25  7.0   3  0.0   0  15.55  21.33\n",
              "2  0.98  514.5  294.0  110.25  7.0   4  0.0   0  15.55  21.33\n",
              "3  0.98  514.5  294.0  110.25  7.0   5  0.0   0  15.55  21.33\n",
              "4  0.90  563.5  318.5  122.50  7.0   2  0.0   0  20.84  28.28"
            ]
          },
          "metadata": {
            "tags": []
          },
          "execution_count": 170
        }
      ]
    },
    {
      "cell_type": "code",
      "metadata": {
        "colab": {
          "base_uri": "https://localhost:8080/"
        },
        "id": "Z0RuoRkj46qM",
        "outputId": "a50c643a-9c7c-490b-fe1c-3f50f296b04a"
      },
      "source": [
        "dataset.isna().sum()"
      ],
      "execution_count": null,
      "outputs": [
        {
          "output_type": "execute_result",
          "data": {
            "text/plain": [
              "X1    0\n",
              "X2    0\n",
              "X3    0\n",
              "X4    0\n",
              "X5    0\n",
              "X6    0\n",
              "X7    0\n",
              "X8    0\n",
              "Y1    0\n",
              "Y2    0\n",
              "dtype: int64"
            ]
          },
          "metadata": {
            "tags": []
          },
          "execution_count": 171
        }
      ]
    },
    {
      "cell_type": "markdown",
      "metadata": {
        "id": "USKh9R39RI8D"
      },
      "source": [
        "# Visualization"
      ]
    },
    {
      "cell_type": "code",
      "metadata": {
        "colab": {
          "base_uri": "https://localhost:8080/",
          "height": 720
        },
        "id": "Z7Ftiylxz8xW",
        "outputId": "4352a0e2-6568-4db6-a9d6-57791589bb0c"
      },
      "source": [
        "plt.figure(figsize=(20,10))\n",
        "for x in range(0,8):\n",
        "    plt.subplot(2,4,x+1)\n",
        "    plt.xlabel(dataset.columns[x])\n",
        "    plt.boxplot(dataset[dataset.columns[x]])\n",
        "plt.tight_layout()\n",
        "plt.show()"
      ],
      "execution_count": null,
      "outputs": [
        {
          "output_type": "display_data",
          "data": {
            "image/png": "[encoded data removed]",
            "text/plain": [
              "<Figure size 1440x720 with 8 Axes>"
            ]
          },
          "metadata": {
            "tags": [],
            "needs_background": "light"
          }
        }
      ]
    },
    {
      "cell_type": "code",
      "metadata": {
        "colab": {
          "base_uri": "https://localhost:8080/",
          "height": 596
        },
        "id": "c1gIqy2xRM4D",
        "outputId": "542d17b6-8c0c-443c-a57a-d195426c3baf"
      },
      "source": [
        "corr = dataset.corr()\n",
        "#print(corr)\n",
        "plt.figure(figsize=(20,10))\n",
        "sns.heatmap(corr, annot=True, cmap = sns.color_palette(\"coolwarm_r\", as_cmap=True))\n",
        "plt.show()"
      ],
      "execution_count": null,
      "outputs": [
        {
          "output_type": "display_data",
          "data": {
            "image/png": "[encoded data removed]",
            "text/plain": [
              "<Figure size 1440x720 with 2 Axes>"
            ]
          },
          "metadata": {
            "tags": [],
            "needs_background": "light"
          }
        }
      ]
    },
    {
      "cell_type": "code",
      "metadata": {
        "colab": {
          "base_uri": "https://localhost:8080/",
          "height": 265
        },
        "id": "je4cn9OyGiFy",
        "outputId": "4cd8f861-6fa1-4731-d592-b08ff5892bf2"
      },
      "source": [
        "corr = corr[['Y1','Y2']][:'X8']\n",
        "#print(corr)\n",
        "sns.heatmap(corr, annot=True, cmap = sns.color_palette(\"coolwarm_r\", as_cmap=True))\n",
        "plt.show()"
      ],
      "execution_count": null,
      "outputs": [
        {
          "output_type": "display_data",
          "data": {
            "image/png": "[encoded data removed]",
            "text/plain": [
              "<Figure size 432x288 with 2 Axes>"
            ]
          },
          "metadata": {
            "tags": [],
            "needs_background": "light"
          }
        }
      ]
    },
    {
      "cell_type": "markdown",
      "metadata": {
        "id": "GNOlkfHLRN9X"
      },
      "source": [
        "# Set Up"
      ]
    },
    {
      "cell_type": "code",
      "metadata": {
        "colab": {
          "base_uri": "https://localhost:8080/"
        },
        "id": "lPtVgaXj7SV3",
        "outputId": "b2ca2b39-1965-45d5-9ab0-ec3eb99ab14d"
      },
      "source": [
        "data_y = dataset[['Y1','Y2']]\n",
        "#data_x = dataset.drop(columns=['X3','X6','X7','X8','Y1','Y2'])\n",
        "data_x = dataset.drop(columns=['Y1','Y2'])\n",
        "print(data_x.shape,data_y.shape)"
      ],
      "execution_count": null,
      "outputs": [
        {
          "output_type": "stream",
          "text": [
            "(768, 8) (768, 2)\n"
          ],
          "name": "stdout"
        }
      ]
    },
    {
      "cell_type": "code",
      "metadata": {
        "colab": {
          "base_uri": "https://localhost:8080/"
        },
        "id": "IDvPrdZB6d2L",
        "outputId": "1ba2196c-0454-4a87-dad0-63c0d6a8766a"
      },
      "source": [
        "from sklearn.model_selection import train_test_split\n",
        "\n",
        "train_x,test_x,train_y,test_y = train_test_split(data_x, data_y, train_size=0.7)\n",
        "print(train_x.shape,train_y.shape,test_x.shape,test_y.shape)"
      ],
      "execution_count": null,
      "outputs": [
        {
          "output_type": "stream",
          "text": [
            "(537, 8) (537, 2) (231, 8) (231, 2)\n"
          ],
          "name": "stdout"
        }
      ]
    },
    {
      "cell_type": "code",
      "metadata": {
        "id": "rIJypr5jxVZf"
      },
      "source": [
        "train_y1,train_y2 = train_y['Y1'], train_y['Y2']\n",
        "test_y1,test_y2 = test_y['Y1'], test_y['Y2']"
      ],
      "execution_count": null,
      "outputs": []
    },
    {
      "cell_type": "code",
      "metadata": {
        "id": "mmIVTyLA9K13"
      },
      "source": [
        "from sklearn.metrics import r2_score"
      ],
      "execution_count": null,
      "outputs": []
    },
    {
      "cell_type": "markdown",
      "metadata": {
        "id": "YpjcIXDQ1ouu"
      },
      "source": [
        "# Linear Regression"
      ]
    },
    {
      "cell_type": "code",
      "metadata": {
        "id": "NfgT0dad8DSu"
      },
      "source": [
        "from sklearn.linear_model import LinearRegression\n",
        "\n",
        "lr = LinearRegression()"
      ],
      "execution_count": null,
      "outputs": []
    },
    {
      "cell_type": "code",
      "metadata": {
        "colab": {
          "base_uri": "https://localhost:8080/"
        },
        "id": "kDswId8m8u61",
        "outputId": "67f2e768-bd10-4122-f08c-30822f542275"
      },
      "source": [
        "lr.fit(train_x,train_y)\n",
        "print(r2_score(lr.predict(test_x),test_y))"
      ],
      "execution_count": null,
      "outputs": [
        {
          "output_type": "stream",
          "text": [
            "0.8992684044728227\n"
          ],
          "name": "stdout"
        }
      ]
    },
    {
      "cell_type": "markdown",
      "metadata": {
        "id": "H8-Lc54u1tmk"
      },
      "source": [
        "# Polynomial ( 2nd Degree )"
      ]
    },
    {
      "cell_type": "code",
      "metadata": {
        "id": "5SP2DyVlCpJp"
      },
      "source": [
        "from sklearn.preprocessing import PolynomialFeatures\n",
        "poly_2 = PolynomialFeatures(degree=2)\n",
        "poly_2.fit(train_x)\n",
        "train_x_2 = poly_2.transform(train_x)"
      ],
      "execution_count": null,
      "outputs": []
    },
    {
      "cell_type": "code",
      "metadata": {
        "id": "B2W0gLXvDsrz"
      },
      "source": [
        "test_x_2 = poly_2.transform(test_x)"
      ],
      "execution_count": null,
      "outputs": []
    },
    {
      "cell_type": "code",
      "metadata": {
        "id": "D5_aCWTXD0MV",
        "colab": {
          "base_uri": "https://localhost:8080/"
        },
        "outputId": "74372977-c9b1-4f71-ee4a-78ac72f9b737"
      },
      "source": [
        "polyr2 = LinearRegression()\n",
        "\n",
        "polyr2.fit(train_x_2,train_y)"
      ],
      "execution_count": null,
      "outputs": [
        {
          "output_type": "execute_result",
          "data": {
            "text/plain": [
              "LinearRegression(copy_X=True, fit_intercept=True, n_jobs=None, normalize=False)"
            ]
          },
          "metadata": {
            "tags": []
          },
          "execution_count": 185
        }
      ]
    },
    {
      "cell_type": "code",
      "metadata": {
        "id": "yO8zfOgw-khD",
        "colab": {
          "base_uri": "https://localhost:8080/"
        },
        "outputId": "5126f110-ee03-4ad7-9151-4870cabea76a"
      },
      "source": [
        "polyr2.fit(train_x_2,train_y)\n",
        "print(r2_score(polyr2.predict(test_x_2),test_y))"
      ],
      "execution_count": null,
      "outputs": [
        {
          "output_type": "stream",
          "text": [
            "0.9773659211971677\n"
          ],
          "name": "stdout"
        }
      ]
    },
    {
      "cell_type": "markdown",
      "metadata": {
        "id": "xu4s58PV0_re"
      },
      "source": [
        "# Polynomial ( 3rd Degree )"
      ]
    },
    {
      "cell_type": "code",
      "metadata": {
        "id": "U9rT7AwCyG9i"
      },
      "source": [
        "from sklearn.preprocessing import PolynomialFeatures\n",
        "poly_3 = PolynomialFeatures(degree=3)\n",
        "poly_3.fit(train_x)\n",
        "train_x_3 = poly_3.transform(train_x)\n",
        "test_x_3 = poly_3.transform(test_x)"
      ],
      "execution_count": null,
      "outputs": []
    },
    {
      "cell_type": "code",
      "metadata": {
        "colab": {
          "base_uri": "https://localhost:8080/"
        },
        "id": "oR6Gm4_P1MDh",
        "outputId": "4ee603f4-bfcb-43af-836b-7499aa4865a6"
      },
      "source": [
        "polyr3 = LinearRegression()\n",
        "\n",
        "polyr3.fit(train_x_3,train_y)"
      ],
      "execution_count": null,
      "outputs": [
        {
          "output_type": "execute_result",
          "data": {
            "text/plain": [
              "LinearRegression(copy_X=True, fit_intercept=True, n_jobs=None, normalize=False)"
            ]
          },
          "metadata": {
            "tags": []
          },
          "execution_count": 188
        }
      ]
    },
    {
      "cell_type": "code",
      "metadata": {
        "colab": {
          "base_uri": "https://localhost:8080/"
        },
        "id": "76PfVyax1Vv-",
        "outputId": "c3924e78-e286-49db-c093-4550cc940859"
      },
      "source": [
        "polyr3.fit(train_x_3,train_y1)\n",
        "print(r2_score(polyr3.predict(test_x_3),test_y1))\n",
        "polyr3.fit(train_x_3,train_y2)\n",
        "print(r2_score(polyr3.predict(test_x_3),test_y2))\n",
        "polyr3.fit(train_x_3,train_y)\n",
        "print(r2_score(polyr3.predict(test_x_3),test_y))"
      ],
      "execution_count": null,
      "outputs": [
        {
          "output_type": "stream",
          "text": [
            "0.9977353085074632\n",
            "0.9684484155357892\n",
            "0.9829529107736164\n"
          ],
          "name": "stdout"
        }
      ]
    },
    {
      "cell_type": "markdown",
      "metadata": {
        "id": "h78cXvCF3KJs"
      },
      "source": [
        "# Ridge Regression"
      ]
    },
    {
      "cell_type": "code",
      "metadata": {
        "id": "zbNun_2A1fJ5"
      },
      "source": [
        "from sklearn.linear_model import Ridge\n",
        "\n",
        "rr = Ridge(alpha=0.1)"
      ],
      "execution_count": null,
      "outputs": []
    },
    {
      "cell_type": "code",
      "metadata": {
        "colab": {
          "base_uri": "https://localhost:8080/"
        },
        "id": "6HUss4yC3Yfp",
        "outputId": "1730a4ef-e35c-4619-f1c8-c6e26d18ef16"
      },
      "source": [
        "rr.fit(train_x,train_y)\n",
        "print(r2_score(rr.predict(test_x),test_y))"
      ],
      "execution_count": null,
      "outputs": [
        {
          "output_type": "stream",
          "text": [
            "0.898486500886807\n"
          ],
          "name": "stdout"
        }
      ]
    },
    {
      "cell_type": "markdown",
      "metadata": {
        "id": "Sm48PpbQ6dJR"
      },
      "source": [
        "# Lasso Regression"
      ]
    },
    {
      "cell_type": "code",
      "metadata": {
        "id": "nJkGjIaW3z9r"
      },
      "source": [
        "from sklearn.linear_model import Lasso\n",
        "\n",
        "lassor = Lasso(alpha=0.01)"
      ],
      "execution_count": null,
      "outputs": []
    },
    {
      "cell_type": "code",
      "metadata": {
        "colab": {
          "base_uri": "https://localhost:8080/"
        },
        "id": "TAjhH2BB7sus",
        "outputId": "43dddebf-962e-4474-b800-fb8fe0fff755"
      },
      "source": [
        "lassor.fit(train_x,train_y)\n",
        "print(r2_score(lassor.predict(test_x),test_y))"
      ],
      "execution_count": null,
      "outputs": [
        {
          "output_type": "stream",
          "text": [
            "0.8952140329548323\n"
          ],
          "name": "stdout"
        }
      ]
    },
    {
      "cell_type": "markdown",
      "metadata": {
        "id": "DHIgtZxi-W6J"
      },
      "source": [
        "# ElasticNet Regression"
      ]
    },
    {
      "cell_type": "code",
      "metadata": {
        "id": "MgPhUWbK7_bB"
      },
      "source": [
        "from sklearn.linear_model import ElasticNet\n",
        "\n",
        "enr = ElasticNet(alpha=0.1)"
      ],
      "execution_count": null,
      "outputs": []
    },
    {
      "cell_type": "code",
      "metadata": {
        "colab": {
          "base_uri": "https://localhost:8080/"
        },
        "id": "22eg7SFC-0rx",
        "outputId": "a7cf5f43-28ef-46f8-be3b-2810047ee27e"
      },
      "source": [
        "enr.fit(train_x,train_y)\n",
        "print(r2_score(enr.predict(test_x),test_y))"
      ],
      "execution_count": null,
      "outputs": [
        {
          "output_type": "stream",
          "text": [
            "0.8242373386898094\n"
          ],
          "name": "stdout"
        }
      ]
    },
    {
      "cell_type": "markdown",
      "metadata": {
        "id": "JEJdVXym_XLv"
      },
      "source": [
        "# Random Forest Tree"
      ]
    },
    {
      "cell_type": "code",
      "metadata": {
        "id": "T_xYibT7_O4C"
      },
      "source": [
        "from sklearn.ensemble import RandomForestRegressor\n",
        "\n",
        "rfr = RandomForestRegressor()"
      ],
      "execution_count": null,
      "outputs": []
    },
    {
      "cell_type": "code",
      "metadata": {
        "colab": {
          "base_uri": "https://localhost:8080/"
        },
        "id": "XDfo0K3C_zBz",
        "outputId": "efc08928-c42f-41e3-fc03-aa7c17715d84"
      },
      "source": [
        "rfr.fit(train_x,train_y)\n",
        "print(r2_score(enr.predict(test_x),test_y))"
      ],
      "execution_count": null,
      "outputs": [
        {
          "output_type": "stream",
          "text": [
            "0.8242373386898094\n"
          ],
          "name": "stdout"
        }
      ]
    },
    {
      "cell_type": "markdown",
      "metadata": {
        "id": "8spJa0vx9DG_"
      },
      "source": [
        "# Decision Tree"
      ]
    },
    {
      "cell_type": "code",
      "metadata": {
        "id": "zkNKmOzOAQkh"
      },
      "source": [
        "from sklearn.tree import DecisionTreeRegressor\n",
        "\n",
        "dtr = DecisionTreeRegressor()"
      ],
      "execution_count": null,
      "outputs": []
    },
    {
      "cell_type": "code",
      "metadata": {
        "colab": {
          "base_uri": "https://localhost:8080/"
        },
        "id": "9nNbMlY69oDT",
        "outputId": "dcecaa4b-fc56-4266-85b7-b5a78355f13c"
      },
      "source": [
        "dtr.fit(train_x,train_y1)\n",
        "print(r2_score(dtr.predict(test_x),test_y1))\n",
        "dtr.fit(train_x,train_y2)\n",
        "print(r2_score(dtr.predict(test_x),test_y2))\n",
        "dtr.fit(train_x,train_y)\n",
        "print(r2_score(dtr.predict(test_x),test_y))"
      ],
      "execution_count": null,
      "outputs": [
        {
          "output_type": "stream",
          "text": [
            "0.9970287669871429\n",
            "0.9450380675046313\n",
            "0.9649255025947852\n"
          ],
          "name": "stdout"
        }
      ]
    },
    {
      "cell_type": "code",
      "metadata": {
        "id": "ZMXV2f8U9zu6",
        "colab": {
          "base_uri": "https://localhost:8080/"
        },
        "outputId": "b22c0ad8-e583-4d76-8b66-c291cb433b02"
      },
      "source": [
        "# with parameter tuning \n",
        "dtmodel = DecisionTreeRegressor(max_depth=7, min_impurity_decrease=0.044 )\n",
        "\n",
        "dtmodel.fit(train_x,train_y1)\n",
        "print(r2_score(dtmodel.predict(test_x),test_y1))\n",
        "dtmodel.fit(train_x,train_y2)\n",
        "print(r2_score(dtmodel.predict(test_x),test_y2))\n",
        "dtmodel.fit(train_x,train_y)\n",
        "print(r2_score(dtmodel.predict(test_x),test_y))"
      ],
      "execution_count": null,
      "outputs": [
        {
          "output_type": "stream",
          "text": [
            "0.9952381477545252\n",
            "0.9560841512132349\n",
            "0.9795720828654821\n"
          ],
          "name": "stdout"
        }
      ]
    },
    {
      "cell_type": "markdown",
      "metadata": {
        "id": "Vhahjag76Cww"
      },
      "source": [
        "# Result Analysis"
      ]
    },
    {
      "cell_type": "code",
      "metadata": {
        "id": "OkIFDM-y6CQX"
      },
      "source": [
        "score_lis = []\n",
        "model_lis = ['Linear','Poly(2)','Poly(3)','Ridge','Lasso','ElasticNet','RF','DT','Tuned DT']\n",
        ",,,,,,,,\n",
        "score_lis.append(r2_score(lr.predict(test_x),test_y))\n",
        "score_lis.append(r2_score(polyr2.predict(test_x_2),test_y))\n",
        "score_lis.append(r2_score(polyr3.predict(test_x_3),test_y))\n",
        "score_lis.append(r2_score(rr.predict(test_x),test_y))\n",
        "score_lis.append(r2_score(lassor.predict(test_x),test_y))\n",
        "score_lis.append(r2_score(enr.predict(test_x),test_y))\n",
        "score_lis.append(r2_score(rfr.predict(test_x),test_y))\n",
        "score_lis.append(r2_score(dtr.predict(test_x),test_y))\n",
        "score_lis.append(r2_score(dtmodel.predict(test_x),test_y))"
      ],
      "execution_count": null,
      "outputs": []
    },
    {
      "cell_type": "code",
      "metadata": {
        "colab": {
          "base_uri": "https://localhost:8080/"
        },
        "id": "eFXCTA7Q7cQy",
        "outputId": "1208de0f-93d1-4869-f21c-ea3e41ebe7fe"
      },
      "source": [
        "print(score_lis)"
      ],
      "execution_count": null,
      "outputs": [
        {
          "output_type": "stream",
          "text": [
            "[0.8992684044728227, 0.9773659211971677, 0.9829529107736164, 0.898486500886807, 0.8952140329548323, 0.8242373386898094, 0.9775282403581451, 0.9649255025947852, 0.9795720828654821]\n"
          ],
          "name": "stdout"
        }
      ]
    },
    {
      "cell_type": "code",
      "metadata": {
        "colab": {
          "base_uri": "https://localhost:8080/",
          "height": 320
        },
        "id": "4X4Nhx9L9puh",
        "outputId": "17ced7c9-caa9-4ed6-91db-cc9207cbbbe7"
      },
      "source": [
        "plt.figure(figsize=(10,5))\n",
        "plt.bar(model_lis, score_lis)\n",
        "plt.show()"
      ],
      "execution_count": null,
      "outputs": [
        {
          "output_type": "display_data",
          "data": {
            "image/png": "[encoded data removed]",
            "text/plain": [
              "<Figure size 720x360 with 1 Axes>"
            ]
          },
          "metadata": {
            "tags": [],
            "needs_background": "light"
          }
        }
      ]
    },
    {
      "cell_type": "markdown",
      "metadata": {
        "id": "nQsfJvOu-Myd"
      },
      "source": [
        "From the above obervations we can say that the Polynomial Regression for degree 3 worked the best in our finding with an accuracy of ~0.98295 (or 98.3%)"
      ]
    }
  ]
}